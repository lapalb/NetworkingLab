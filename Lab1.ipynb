{
 "cells": [
  {
   "cell_type": "code",
   "execution_count": 1,
   "metadata": {},
   "outputs": [],
   "source": [
    "import pickle\n",
    "\n",
    "class Student():\n",
    "    def __init__(self,name, age):\n",
    "        self.name=name\n",
    "        self.age=age\n",
    "Student1=Student(\"Sita\",23)\n",
    "Student2=Student(\"Geeta\",24)"
   ]
  },
  {
   "cell_type": "code",
   "execution_count": 2,
   "metadata": {},
   "outputs": [
    {
     "name": "stdout",
     "output_type": "stream",
     "text": [
      "The Info about first student:\n",
      "Sita23\n",
      "\n",
      "\n",
      "The Info about Second student:\n",
      "Geeta24\n",
      "\n",
      "\n"
     ]
    }
   ],
   "source": [
    "print(\"The Info about first student:\\n\" + str(Student1.name) + str(Student1.age)+ \"\\n\\n\")\n",
    "print(\"The Info about Second student:\\n\" + str(Student2.name) + str(Student2.age) + \"\\n\\n\")"
   ]
  },
  {
   "cell_type": "markdown",
   "metadata": {},
   "source": [
    "####  Serialisation is also called pickling. It is the proces in which we convert the object hierarchy into byte stream. We do this via __Pickle__ Library\n",
    "\n",
    "#### DeSerialisation is reverse of Serialisation in which we convert the byte stream to object hierarchy"
   ]
  },
  {
   "cell_type": "code",
   "execution_count": 3,
   "metadata": {},
   "outputs": [],
   "source": [
    "#Pickling our object\n",
    "file1=open(\"Student1.txt\", mode=\"wb\")\n",
    "pStudent1=pickle.dump(Student1,file1)\n",
    "file1.close()\n",
    "\n",
    "file2=open(\"Student2.txt\", mode=\"wb\")\n",
    "pStudent1=pickle.dump(Student2,file2)\n",
    "file2.close()"
   ]
  },
  {
   "cell_type": "code",
   "execution_count": 4,
   "metadata": {},
   "outputs": [
    {
     "name": "stdout",
     "output_type": "stream",
     "text": [
      "The Info about DePickled first student:\n",
      "Sita23\n",
      "\n",
      "\n",
      "The Info about DePickled Second student:\n",
      "Geeta24\n",
      "\n",
      "\n"
     ]
    }
   ],
   "source": [
    "#Depickling the Object\n",
    "fileh1=open(\"Student1.txt\",mode=\"rb\")\n",
    "fileh2=open(\"Student2.txt\",mode=\"rb\")\n",
    "newStudent1=pickle.load(fileh1)\n",
    "newStudent2=pickle.load(fileh2)\n",
    "\n",
    "#Printing the Object\n",
    "print(\"The Info about DePickled first student:\\n\" + str(newStudent1.name) + str(newStudent1.age)+ \"\\n\\n\")\n",
    "print(\"The Info about DePickled Second student:\\n\" + str(newStudent2.name) + str(newStudent2.age) + \"\\n\\n\")"
   ]
  },
  {
   "cell_type": "markdown",
   "metadata": {},
   "source": [
    "### Pickle Can be used for saving Models in Machine learning\n",
    "\n",
    "```python\n",
    "#Creating our Model\n",
    "decision_tree_model = DecisionTreeClassifier(criterion=\"gini\", random_state=100, max_depth=3, min_samples_leaf=5)\n",
    "decision_tree_model.fit(X_train, y_train)\n",
    "print \"Decision Tree classifier :: \", decision_tree_model\n",
    "\n",
    "#Saving the Model as byte Stream\n",
    "decision_tree_pkl_filename = 'decision_tree_classifier_20190116.pkl'\n",
    "decision_tree_model_pkl = open(decision_tree_pkl_filename, 'wb')\n",
    "pickle.dump(decision_tree_model, decision_tree_model_pkl)\n",
    "decision_tree_model_pkl.close()\n",
    "\n",
    "#Loading the Model\n",
    "decision_tree_model_pkl = open(decision_tree_pkl_filename, 'rb')\n",
    "decision_tree_model = pickle.load(decision_tree_model_pkl)\n",
    "print \"Loaded Decision tree model :: \", decision_tree_model\n",
    "```\n"
   ]
  }
 ],
 "metadata": {
  "kernelspec": {
   "display_name": "Python 3",
   "language": "python",
   "name": "python3"
  },
  "language_info": {
   "codemirror_mode": {
    "name": "ipython",
    "version": 3
   },
   "file_extension": ".py",
   "mimetype": "text/x-python",
   "name": "python",
   "nbconvert_exporter": "python",
   "pygments_lexer": "ipython3",
   "version": "3.7.1"
  }
 },
 "nbformat": 4,
 "nbformat_minor": 2
}
