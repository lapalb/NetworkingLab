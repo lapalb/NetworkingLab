{
 "cells": [
  {
   "cell_type": "code",
   "execution_count": 1,
   "metadata": {},
   "outputs": [
    {
     "name": "stdout",
     "output_type": "stream",
     "text": [
      " -> time\n",
      "Received from server: 22:11:46\n",
      " -> ip\n",
      "Received from server: ('192.168.43.92', 55072)\n",
      " -> bye\n"
     ]
    }
   ],
   "source": [
    "import socket\n",
    "def client_program():\n",
    "    host = socket.gethostname()\n",
    "    port = 7000\n",
    "    client_socket = socket.socket() \n",
    "    client_socket.connect((host, port)) \n",
    "    message = input(\" -> \")\n",
    "    while message.lower().strip() != 'bye':\n",
    "        client_socket.send(message.encode())\n",
    "        data = client_socket.recv(1024).decode() \n",
    "        print('Received from server: ' + data) \n",
    "\n",
    "        message = input(\" -> \")  # again take input\n",
    "\n",
    "    client_socket.close()  # close the connection\n",
    "\n",
    "\n",
    "if __name__ == '__main__':\n",
    "    client_program()"
   ]
  },
  {
   "cell_type": "code",
   "execution_count": null,
   "metadata": {},
   "outputs": [],
   "source": []
  }
 ],
 "metadata": {
  "kernelspec": {
   "display_name": "Python 3",
   "language": "python",
   "name": "python3"
  },
  "language_info": {
   "codemirror_mode": {
    "name": "ipython",
    "version": 3
   },
   "file_extension": ".py",
   "mimetype": "text/x-python",
   "name": "python",
   "nbconvert_exporter": "python",
   "pygments_lexer": "ipython3",
   "version": "3.7.1"
  }
 },
 "nbformat": 4,
 "nbformat_minor": 2
}
